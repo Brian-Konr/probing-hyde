{
 "cells": [
  {
   "cell_type": "markdown",
   "id": "c0a95872",
   "metadata": {},
   "source": [
    "# HyDE\n",
    "For a given query, HyDE retrieval pipeline contains 4 components:\n",
    "1. Promptor: bulid prompt for generator based on specific task.\n",
    "2. Generator: generates hypothesis documents using Large Language Model.\n",
    "3. Encoder: encode hypothesis documents to HyDE vector.\n",
    "4. Searcher: search nearest neighbour for the HyDE vector (dense retrieval)."
   ]
  },
  {
   "cell_type": "markdown",
   "id": "a1ee489b",
   "metadata": {},
   "source": [
    "### Initialize HyDE components\n",
    "We use [pyserini](https://github.com/castorini/pyserini) as the search interface."
   ]
  },
  {
   "cell_type": "code",
   "execution_count": 1,
   "id": "65c24913",
   "metadata": {},
   "outputs": [
    {
     "name": "stdout",
     "output_type": "stream",
     "text": [
      "env: JAVA_HOME=/usr/lib/jvm/java-21-openjdk-amd64/bin/java\n",
      "env: JVM_PATH=/usr/lib/jvm/java-21-openjdk-amd64/lib/server/libjvm.so\n"
     ]
    },
    {
     "name": "stderr",
     "output_type": "stream",
     "text": [
      "WARNING: Using incubator modules: jdk.incubator.vector\n",
      "/home/guest/r12922050/.local/lib/python3.10/site-packages/tqdm/auto.py:21: TqdmWarning: IProgress not found. Please update jupyter and ipywidgets. See https://ipywidgets.readthedocs.io/en/stable/user_install.html\n",
      "  from .autonotebook import tqdm as notebook_tqdm\n"
     ]
    },
    {
     "name": "stdout",
     "output_type": "stream",
     "text": [
      "sagemaker.config INFO - Not applying SDK defaults from location: /etc/xdg/sagemaker/config.yaml\n",
      "sagemaker.config INFO - Not applying SDK defaults from location: /home/guest/r12922050/.config/sagemaker/config.yaml\n"
     ]
    }
   ],
   "source": [
    "%env JAVA_HOME=/usr/lib/jvm/java-21-openjdk-amd64/bin/java\n",
    "%env JVM_PATH=/usr/lib/jvm/java-21-openjdk-amd64/lib/server/libjvm.so\n",
    "\n",
    "import json\n",
    "from pyserini.search import FaissSearcher, LuceneSearcher\n",
    "from pyserini.search.faiss import AutoQueryEncoder\n",
    "\n",
    "from hyde import Promptor, OpenAIGenerator, CohereGenerator, HyDE, LlamaGenerator"
   ]
  },
  {
   "cell_type": "code",
   "execution_count": 2,
   "id": "dcb0db43",
   "metadata": {},
   "outputs": [
    {
     "ename": "TypeError",
     "evalue": "LlamaGenerator.__init__() missing 1 required positional argument: 'model_name'",
     "output_type": "error",
     "traceback": [
      "\u001b[0;31m---------------------------------------------------------------------------\u001b[0m",
      "\u001b[0;31mTypeError\u001b[0m                                 Traceback (most recent call last)",
      "Cell \u001b[0;32mIn[2], line 3\u001b[0m\n\u001b[1;32m      1\u001b[0m KEY \u001b[38;5;241m=\u001b[39m \u001b[38;5;124m'\u001b[39m\u001b[38;5;124m<api key>\u001b[39m\u001b[38;5;124m'\u001b[39m \u001b[38;5;66;03m# replace with your API key, it can be OpenAI api key or Cohere api key\u001b[39;00m\n\u001b[1;32m      2\u001b[0m promptor \u001b[38;5;241m=\u001b[39m Promptor(\u001b[38;5;124m'\u001b[39m\u001b[38;5;124mweb search\u001b[39m\u001b[38;5;124m'\u001b[39m)\n\u001b[0;32m----> 3\u001b[0m generator \u001b[38;5;241m=\u001b[39m \u001b[43mLlamaGenerator\u001b[49m\u001b[43m(\u001b[49m\u001b[43m)\u001b[49m\n\u001b[1;32m      4\u001b[0m generator \u001b[38;5;241m=\u001b[39m OpenAIGenerator(\u001b[38;5;124m'\u001b[39m\u001b[38;5;124mtext-davinci-003\u001b[39m\u001b[38;5;124m'\u001b[39m, KEY)\n\u001b[1;32m      5\u001b[0m encoder \u001b[38;5;241m=\u001b[39m AutoQueryEncoder(encoder_dir\u001b[38;5;241m=\u001b[39m\u001b[38;5;124m'\u001b[39m\u001b[38;5;124mfacebook/contriever\u001b[39m\u001b[38;5;124m'\u001b[39m, pooling\u001b[38;5;241m=\u001b[39m\u001b[38;5;124m'\u001b[39m\u001b[38;5;124mmean\u001b[39m\u001b[38;5;124m'\u001b[39m)\n",
      "\u001b[0;31mTypeError\u001b[0m: LlamaGenerator.__init__() missing 1 required positional argument: 'model_name'"
     ]
    }
   ],
   "source": [
    "KEY = '<api key>' # replace with your API key, it can be OpenAI api key or Cohere api key\n",
    "promptor = Promptor('web search')\n",
    "generator = LlamaGenerator(model_name=\"llama3.1-8b-instruct\")\n",
    "generator = OpenAIGenerator('text-davinci-003', KEY)\n",
    "encoder = AutoQueryEncoder(encoder_dir='facebook/contriever', pooling='mean')\n",
    "searcher = FaissSearcher('contriever_msmarco_index/', encoder)\n",
    "corpus = LuceneSearcher.from_prebuilt_index('msmarco-v1-passage')"
   ]
  },
  {
   "cell_type": "markdown",
   "id": "d0fe1eb3",
   "metadata": {},
   "source": [
    "### Build a HyDE pipeline"
   ]
  },
  {
   "cell_type": "code",
   "execution_count": 2,
   "id": "ccacadc5",
   "metadata": {},
   "outputs": [
    {
     "ename": "NameError",
     "evalue": "name 'HyDE' is not defined",
     "output_type": "error",
     "traceback": [
      "\u001b[0;31m---------------------------------------------------------------------------\u001b[0m",
      "\u001b[0;31mNameError\u001b[0m                                 Traceback (most recent call last)",
      "Cell \u001b[0;32mIn[2], line 1\u001b[0m\n\u001b[0;32m----> 1\u001b[0m hyde \u001b[38;5;241m=\u001b[39m \u001b[43mHyDE\u001b[49m(promptor, generator, encoder, searcher)\n",
      "\u001b[0;31mNameError\u001b[0m: name 'HyDE' is not defined"
     ]
    }
   ],
   "source": [
    "hyde = HyDE(promptor, generator, encoder, searcher)"
   ]
  },
  {
   "cell_type": "markdown",
   "id": "1ee99483",
   "metadata": {},
   "source": [
    "### Load example Query"
   ]
  },
  {
   "cell_type": "code",
   "execution_count": 37,
   "id": "b8d1a85c",
   "metadata": {},
   "outputs": [],
   "source": [
    "query = 'how long does it take to remove wisdom tooth'"
   ]
  },
  {
   "cell_type": "markdown",
   "id": "4c3be967",
   "metadata": {},
   "source": [
    "### Build Zeroshot Prompt"
   ]
  },
  {
   "cell_type": "code",
   "execution_count": null,
   "id": "a6e0eecc",
   "metadata": {},
   "outputs": [],
   "source": [
    "prompt = hyde.prompt(query)\n",
    "print(prompt)"
   ]
  },
  {
   "cell_type": "markdown",
   "id": "1821d8b9",
   "metadata": {},
   "source": [
    "### Generate Hypothesis Documents"
   ]
  },
  {
   "cell_type": "code",
   "execution_count": null,
   "id": "4032c2b7",
   "metadata": {},
   "outputs": [],
   "source": [
    "hypothesis_documents = hyde.generate(query)\n",
    "for i, doc in enumerate(hypothesis_documents):\n",
    "    print(f'HyDE Generated Document: {i}')\n",
    "    print(doc.strip())"
   ]
  },
  {
   "cell_type": "markdown",
   "id": "022a4cd8",
   "metadata": {},
   "source": [
    "### Encode HyDE vector"
   ]
  },
  {
   "cell_type": "code",
   "execution_count": null,
   "id": "cdb4e5b9",
   "metadata": {},
   "outputs": [],
   "source": [
    "hyde_vector = hyde.encode(query, hypothesis_documents)\n",
    "print(hyde_vector.shape)"
   ]
  },
  {
   "cell_type": "markdown",
   "id": "fe95165a",
   "metadata": {},
   "source": [
    "### Search Relevant Documents"
   ]
  },
  {
   "cell_type": "code",
   "execution_count": null,
   "id": "8ae97c0a",
   "metadata": {},
   "outputs": [],
   "source": [
    "hits = hyde.search(hyde_vector, k=10)\n",
    "for i, hit in enumerate(hits):\n",
    "    print(f'HyDE Retrieved Document: {i}')\n",
    "    print(hit.docid)\n",
    "    print(json.loads(corpus.doc(hit.docid).raw())['contents'])"
   ]
  },
  {
   "cell_type": "markdown",
   "id": "a2edb68c",
   "metadata": {},
   "source": [
    "### End to End Search\n",
    "\n",
    "e2e search will directly go through all the steps descripted above."
   ]
  },
  {
   "cell_type": "code",
   "execution_count": null,
   "id": "47e9f353",
   "metadata": {},
   "outputs": [],
   "source": [
    "hits = hyde.e2e_search(query, k=10)\n",
    "for i, hit in enumerate(hits):\n",
    "    print(f'HyDE Retrieved Document: {i}')\n",
    "    print(hit.docid)\n",
    "    print(json.loads(corpus.doc(hit.docid).raw())['contents'])"
   ]
  },
  {
   "cell_type": "code",
   "execution_count": null,
   "id": "578d2ca9",
   "metadata": {},
   "outputs": [],
   "source": []
  }
 ],
 "metadata": {
  "kernelspec": {
   "display_name": "hyde-probe",
   "language": "python",
   "name": "python3"
  },
  "language_info": {
   "codemirror_mode": {
    "name": "ipython",
    "version": 3
   },
   "file_extension": ".py",
   "mimetype": "text/x-python",
   "name": "python",
   "nbconvert_exporter": "python",
   "pygments_lexer": "ipython3",
   "version": "3.10.14"
  }
 },
 "nbformat": 4,
 "nbformat_minor": 5
}
