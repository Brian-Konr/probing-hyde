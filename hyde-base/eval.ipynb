{
 "cells": [
  {
   "cell_type": "code",
   "execution_count": 1,
   "metadata": {},
   "outputs": [
    {
     "name": "stdout",
     "output_type": "stream",
     "text": [
      "env: JAVA_HOME=/usr/lib/jvm/java-21-openjdk-amd64/bin/java\n",
      "env: JVM_PATH=/usr/lib/jvm/java-21-openjdk-amd64/lib/server/libjvm.so\n"
     ]
    }
   ],
   "source": [
    "%env JAVA_HOME=/usr/lib/jvm/java-21-openjdk-amd64/bin/java\n",
    "%env JVM_PATH=/usr/lib/jvm/java-21-openjdk-amd64/lib/server/libjvm.so"
   ]
  },
  {
   "cell_type": "markdown",
   "metadata": {},
   "source": [
    "### Initialize Contriever Index and Query Encoder\n",
    "We use [Pyserini](https://github.com/castorini/pyserini) as the search interface for the experiment. Please following the guidance in Pyserini to create Contriever index using the checkpoint from original Contriever work."
   ]
  },
  {
   "cell_type": "code",
   "execution_count": 2,
   "metadata": {},
   "outputs": [
    {
     "name": "stderr",
     "output_type": "stream",
     "text": [
      "WARNING: Using incubator modules: jdk.incubator.vector\n",
      "/home/guest/r12922050/.local/lib/python3.10/site-packages/tqdm/auto.py:21: TqdmWarning: IProgress not found. Please update jupyter and ipywidgets. See https://ipywidgets.readthedocs.io/en/stable/user_install.html\n",
      "  from .autonotebook import tqdm as notebook_tqdm\n"
     ]
    }
   ],
   "source": [
    "from pyserini.search import FaissSearcher, LuceneSearcher\n",
    "from pyserini.search.faiss import AutoQueryEncoder\n",
    "from pyserini.search import get_topics, get_qrels\n",
    "from tqdm import tqdm"
   ]
  },
  {
   "cell_type": "code",
   "execution_count": 4,
   "metadata": {},
   "outputs": [
    {
     "name": "stderr",
     "output_type": "stream",
     "text": [
      "Oct 31, 2024 3:44:39 PM org.apache.lucene.store.MemorySegmentIndexInputProvider <init>\n",
      "INFO: Using MemorySegmentIndexInput with Java 21; to disable start with -Dorg.apache.lucene.store.MMapDirectory.enableMemorySegments=false\n"
     ]
    }
   ],
   "source": [
    "query_encoder = AutoQueryEncoder(encoder_dir='facebook/contriever', pooling='mean')\n",
    "searcher = FaissSearcher('contriever_msmarco_index/', query_encoder)\n",
    "corpus = LuceneSearcher.from_prebuilt_index('msmarco-v1-passage')"
   ]
  },
  {
   "cell_type": "code",
   "execution_count": 5,
   "metadata": {},
   "outputs": [],
   "source": [
    "topics = get_topics('dl19-passage')\n",
    "qrels = get_qrels('dl19-passage')"
   ]
  },
  {
   "cell_type": "markdown",
   "metadata": {},
   "source": [
    "### Run Contriever"
   ]
  },
  {
   "cell_type": "code",
   "execution_count": 6,
   "metadata": {},
   "outputs": [
    {
     "name": "stderr",
     "output_type": "stream",
     "text": [
      "100%|██████████| 43/43 [01:41<00:00,  2.37s/it]\n"
     ]
    }
   ],
   "source": [
    "with open('dl19-contriever-top1000-trec', 'w')  as f:\n",
    "    for qid in tqdm(topics):\n",
    "        if qid in qrels:\n",
    "            query = topics[qid]['title']\n",
    "            hits = searcher.search(query, k=1000)\n",
    "            rank = 0\n",
    "            for hit in hits:\n",
    "                rank += 1\n",
    "                f.write(f'{qid} Q0 {hit.docid} {rank} {hit.score} rank\\n')"
   ]
  },
  {
   "cell_type": "code",
   "execution_count": 7,
   "metadata": {},
   "outputs": [
    {
     "name": "stderr",
     "output_type": "stream",
     "text": [
      "huggingface/tokenizers: The current process just got forked, after parallelism has already been used. Disabling parallelism to avoid deadlocks...\n",
      "To disable this warning, you can either:\n",
      "\t- Avoid using `tokenizers` before the fork if possible\n",
      "\t- Explicitly set the environment variable TOKENIZERS_PARALLELISM=(true | false)\n"
     ]
    },
    {
     "name": "stdout",
     "output_type": "stream",
     "text": [
      "map                   \tall\t0.2399\n"
     ]
    },
    {
     "name": "stderr",
     "output_type": "stream",
     "text": [
      "huggingface/tokenizers: The current process just got forked, after parallelism has already been used. Disabling parallelism to avoid deadlocks...\n",
      "To disable this warning, you can either:\n",
      "\t- Avoid using `tokenizers` before the fork if possible\n",
      "\t- Explicitly set the environment variable TOKENIZERS_PARALLELISM=(true | false)\n"
     ]
    },
    {
     "name": "stdout",
     "output_type": "stream",
     "text": [
      "ndcg_cut_10           \tall\t0.4454\n"
     ]
    },
    {
     "name": "stderr",
     "output_type": "stream",
     "text": [
      "huggingface/tokenizers: The current process just got forked, after parallelism has already been used. Disabling parallelism to avoid deadlocks...\n",
      "To disable this warning, you can either:\n",
      "\t- Avoid using `tokenizers` before the fork if possible\n",
      "\t- Explicitly set the environment variable TOKENIZERS_PARALLELISM=(true | false)\n"
     ]
    },
    {
     "name": "stdout",
     "output_type": "stream",
     "text": [
      "recall_1000           \tall\t0.7459\n"
     ]
    }
   ],
   "source": [
    "!python -m pyserini.eval.trec_eval -c -l 2 -m map dl19-passage dl19-contriever-top1000-trec\n",
    "!python -m pyserini.eval.trec_eval -c -m ndcg_cut.10 dl19-passage dl19-contriever-top1000-trec\n",
    "!python -m pyserini.eval.trec_eval -c -l 2 -m recall.1000 dl19-passage dl19-contriever-top1000-trec"
   ]
  },
  {
   "cell_type": "markdown",
   "metadata": {},
   "source": [
    "### Run BM25"
   ]
  },
  {
   "cell_type": "code",
   "execution_count": 17,
   "metadata": {},
   "outputs": [
    {
     "name": "stderr",
     "output_type": "stream",
     "text": [
      "100%|██████████| 43/43 [01:14<00:00,  1.73s/it]\n"
     ]
    }
   ],
   "source": [
    "corpus = LuceneSearcher.from_prebuilt_index('msmarco-v1-passage')\n",
    "corpus.set_bm25() # default parameters\n",
    "with open('dl19-bm25-top1000-trec', 'w')  as f:\n",
    "    for qid in tqdm(topics):\n",
    "        query = topics[qid]['title']\n",
    "        hits = corpus.search(query, k=1000)\n",
    "        rank = 0\n",
    "        for hit in hits:\n",
    "            rank += 1\n",
    "            f.write(f'{qid} Q0 {hit.docid} {rank} {hit.score} rank\\n')"
   ]
  },
  {
   "cell_type": "code",
   "execution_count": 18,
   "metadata": {},
   "outputs": [
    {
     "name": "stderr",
     "output_type": "stream",
     "text": [
      "huggingface/tokenizers: The current process just got forked, after parallelism has already been used. Disabling parallelism to avoid deadlocks...\n",
      "To disable this warning, you can either:\n",
      "\t- Avoid using `tokenizers` before the fork if possible\n",
      "\t- Explicitly set the environment variable TOKENIZERS_PARALLELISM=(true | false)\n"
     ]
    },
    {
     "name": "stdout",
     "output_type": "stream",
     "text": [
      "map                   \tall\t0.3013\n"
     ]
    },
    {
     "name": "stderr",
     "output_type": "stream",
     "text": [
      "huggingface/tokenizers: The current process just got forked, after parallelism has already been used. Disabling parallelism to avoid deadlocks...\n",
      "To disable this warning, you can either:\n",
      "\t- Avoid using `tokenizers` before the fork if possible\n",
      "\t- Explicitly set the environment variable TOKENIZERS_PARALLELISM=(true | false)\n"
     ]
    },
    {
     "name": "stdout",
     "output_type": "stream",
     "text": [
      "ndcg_cut_10           \tall\t0.5058\n"
     ]
    },
    {
     "name": "stderr",
     "output_type": "stream",
     "text": [
      "huggingface/tokenizers: The current process just got forked, after parallelism has already been used. Disabling parallelism to avoid deadlocks...\n",
      "To disable this warning, you can either:\n",
      "\t- Avoid using `tokenizers` before the fork if possible\n",
      "\t- Explicitly set the environment variable TOKENIZERS_PARALLELISM=(true | false)\n"
     ]
    },
    {
     "name": "stdout",
     "output_type": "stream",
     "text": [
      "recall_1000           \tall\t0.7501\n"
     ]
    }
   ],
   "source": [
    "!python -m pyserini.eval.trec_eval -c -l 2 -m map dl19-passage dl19-bm25-top1000-trec\n",
    "!python -m pyserini.eval.trec_eval -c -m ndcg_cut.10 dl19-passage dl19-bm25-top1000-trec\n",
    "!python -m pyserini.eval.trec_eval -c -l 2 -m recall.1000 dl19-passage dl19-bm25-top1000-trec"
   ]
  },
  {
   "cell_type": "markdown",
   "metadata": {},
   "source": [
    "### Run RM3"
   ]
  },
  {
   "cell_type": "code",
   "execution_count": 19,
   "metadata": {},
   "outputs": [
    {
     "name": "stderr",
     "output_type": "stream",
     "text": [
      "100%|██████████| 43/43 [00:08<00:00,  4.93it/s]\n"
     ]
    }
   ],
   "source": [
    "corpus = LuceneSearcher.from_prebuilt_index('msmarco-v1-passage')\n",
    "corpus.set_rm3() # default parameters\n",
    "with open('dl19-rm3-top1000-trec', 'w')  as f:\n",
    "    for qid in tqdm(topics):\n",
    "        query = topics[qid]['title']\n",
    "        hits = corpus.search(query, k=1000)\n",
    "        rank = 0\n",
    "        for hit in hits:\n",
    "            rank += 1\n",
    "            f.write(f'{qid} Q0 {hit.docid} {rank} {hit.score} rank\\n')"
   ]
  },
  {
   "cell_type": "code",
   "execution_count": 20,
   "metadata": {},
   "outputs": [
    {
     "name": "stderr",
     "output_type": "stream",
     "text": [
      "huggingface/tokenizers: The current process just got forked, after parallelism has already been used. Disabling parallelism to avoid deadlocks...\n",
      "To disable this warning, you can either:\n",
      "\t- Avoid using `tokenizers` before the fork if possible\n",
      "\t- Explicitly set the environment variable TOKENIZERS_PARALLELISM=(true | false)\n"
     ]
    },
    {
     "name": "stdout",
     "output_type": "stream",
     "text": [
      "map                   \tall\t0.3416\n"
     ]
    },
    {
     "name": "stderr",
     "output_type": "stream",
     "text": [
      "huggingface/tokenizers: The current process just got forked, after parallelism has already been used. Disabling parallelism to avoid deadlocks...\n",
      "To disable this warning, you can either:\n",
      "\t- Avoid using `tokenizers` before the fork if possible\n",
      "\t- Explicitly set the environment variable TOKENIZERS_PARALLELISM=(true | false)\n"
     ]
    },
    {
     "name": "stdout",
     "output_type": "stream",
     "text": [
      "ndcg_cut_10           \tall\t0.5216\n"
     ]
    },
    {
     "name": "stderr",
     "output_type": "stream",
     "text": [
      "huggingface/tokenizers: The current process just got forked, after parallelism has already been used. Disabling parallelism to avoid deadlocks...\n",
      "To disable this warning, you can either:\n",
      "\t- Avoid using `tokenizers` before the fork if possible\n",
      "\t- Explicitly set the environment variable TOKENIZERS_PARALLELISM=(true | false)\n"
     ]
    },
    {
     "name": "stdout",
     "output_type": "stream",
     "text": [
      "recall_1000           \tall\t0.8136\n"
     ]
    }
   ],
   "source": [
    "!python -m pyserini.eval.trec_eval -c -l 2 -m map dl19-passage dl19-rm3-top1000-trec\n",
    "!python -m pyserini.eval.trec_eval -c -m ndcg_cut.10 dl19-passage dl19-rm3-top1000-trec\n",
    "!python -m pyserini.eval.trec_eval -c -l 2 -m recall.1000 dl19-passage dl19-rm3-top1000-trec"
   ]
  },
  {
   "cell_type": "markdown",
   "metadata": {},
   "source": [
    "## Run Hyde-LLaMA3.1-8B-Instruct"
   ]
  },
  {
   "cell_type": "code",
   "execution_count": 16,
   "metadata": {},
   "outputs": [
    {
     "name": "stdout",
     "output_type": "stream",
     "text": [
      "Generation config: {'max_new_tokens': 512, 'temperature': 0.7, 'top_p': 1, 'do_sample': True, 'num_return_sequences': 8}\n",
      "Total number of topics and corresponding query, answers: 43\n",
      "An Example of a topic entry: {'qid': 264014, 'query': 'how long is life cycle of flea', 'generated_passages': [\"The life cycle of a flea is a complex process that consists of four distinct stages: egg, larva, pupa, and adult. This cycle typically lasts around 21-30 days, depending on environmental factors and the availability of food.\\n\\nIt begins with the adult flea, which lays its eggs in the host's fur or in the surrounding environment. The female flea can lay up to 50 eggs per day, with the total number ranging from 20 to 400 eggs. The eggs are usually white, oval-shaped, and about 0.5 millimeters in length.\\n\\nAfter 2-3 weeks, the eggs hatch into larvae, which are legless, worm-like creatures that feed on flea feces, skin cells, and other organic matter. During this stage, the larvae molt (shed their skin) several times as they grow.\\n\\nThe larval stage lasts around 7-14 days, after which the larvae spin a cocoon and enter the pupal stage. This stage lasts around 7-10 days, during which the pupa is protected from the outside environment and undergoes metamorphosis.\\n\\nFinally, the adult flea emerges from the pupa, usually after a period of around 7-10 days. The newly emerged adult flea is soft-bodied and pale-colored, but it will harden and darken as it feeds on a host's blood. The adult flea will then begin the cycle again, starting with the first stage, the egg.\\n\\nOverall, the life cycle of a flea typically lasts around 21-30 days, with some variations depending on the specific species and environmental conditions. This rapid life cycle allows fleas to quickly adapt to changing environments and populations, making them a persistent and resilient pest.\", \"The life cycle of a flea is a complex and multifaceted process that involves several stages of development. It begins with the egg stage, which typically lasts for 2-3 weeks. Female fleas lay their eggs on the host animal's body or in the surrounding environment, usually after feeding on blood. \\n\\nThe eggs then hatch into larvae, which is the second stage of the life cycle. This stage usually lasts for 1-3 weeks and is marked by the larvae feeding on organic matter such as dead skin cells, blood, and other debris. During this time, the larvae go through a series of molts, shedding their skin as they grow.\\n\\nAfter the larval stage, the flea enters the pupal stage, also known as the resting stage. This stage can last anywhere from a few days to several weeks, depending on environmental factors such as temperature and humidity. During this time, the pupa is protected by a cocoon and is not yet active.\\n\\nFinally, the adult flea emerges from the cocoon, usually after a short period of time. The adult flea then begins the cycle anew, feeding on blood and reproducing to lay eggs. On average, the entire life cycle of a flea takes around 2-3 months to complete, although it can vary depending on various environmental factors.\\n\\nIt is worth noting that under ideal conditions, a single female flea can produce hundreds of offspring in her lifetime, making it challenging to control flea infestations. Regular flea control measures, such as using flea preventatives and treating the environment, are essential to prevent flea infestations and reduce the risk of flea-borne diseases.\", \"The life cycle of a flea is a complex and multi-stage process that typically takes around 3-4 weeks to complete. It begins with the egg stage, where a female flea lays her eggs, usually around 4-8 eggs at a time, on the fur of a host animal such as a dog, cat, or rodent. The eggs hatch into larvae within 2-3 weeks, during which they feed on the flea's saliva, dead skin cells, and other debris found in the host's fur.\\n\\nThe larvae then enter a pupal stage, also known as the resting stage, where they spin a cocoon around themselves and undergo metamorphosis. This stage can last anywhere from a few days to 2 weeks, depending on factors such as temperature and humidity.\\n\\nOnce the pupal stage is complete, the adult flea emerges from the cocoon. Adult fleas are now ready to feed on the host animal's blood and begin the cycle all over again. Female fleas can lay up to 50 eggs per day, and the entire life cycle can repeat itself in as little as 2-3 weeks. This rapid breeding and development allows flea populations to grow quickly, making them a persistent and difficult pest to control.\\n\\nIn ideal conditions, with a constant food supply and suitable environment, the life cycle of a flea can be completed in as little as 2 weeks, with some species taking up to 4 weeks. However, the average life cycle typically falls within the 3-4 week range.\", 'The life cycle of a flea is a complex and fascinating process that involves four distinct stages: egg, larva, pupa, and adult. The duration of each stage varies depending on factors such as temperature, humidity, and availability of food.\\n\\nThe female flea lays her eggs, which are usually white and about 0.5 millimeters in length, on the host animal or in its environment. The eggs typically hatch into larvae within 2-3 weeks. The larval stage, also known as the worm stage, lasts for about 3-4 weeks during which the larvae feed on organic matter and waste products.\\n\\nAfter the larval stage, the flea enters the pupal stage, also known as the resting stage. During this stage, the flea undergoes a dramatic transformation, developing its adult features and preparing for emergence. The pupal stage can last anywhere from a few days to several weeks, depending on environmental conditions.\\n\\nFinally, the adult flea emerges from the pupa, typically within 7-10 days. Adult fleas are the ones that infest animals and feed on their blood, causing discomfort and disease transmission. Adult fleas can live for several months, with some species living up to 2 years in ideal conditions.\\n\\nIn total, the life cycle of a flea can last anywhere from 2-3 months to 2 years, depending on the species and environmental factors. The entire process involves a minimum of 7-10 days for the pupal stage, 3-4 weeks for the larval stage, and 2-3 weeks for the egg stage, with the adult stage lasting several months.', \"The life cycle of a flea is a complex and highly efficient process that allows these blood-sucking parasites to rapidly multiply and infect hosts. The life cycle of a flea consists of four stages: egg, larva, pupa, and adult.\\n\\nThe life cycle begins when an adult female flea lays her eggs, which can range in number from a few dozen to several hundred. These eggs are typically white, oval-shaped, and about 0.5 millimeters in length. They are laid on the host animal's fur, bedding, or in other areas where the host spends time.\\n\\nAfter about 2-3 weeks, the eggs hatch into larvae, which are legless and grub-like in appearance. The larvae feed on flea feces, skin cells, and other organic matter. During this stage, the larvae molt several times as they grow and develop.\\n\\nAfter about 2-4 weeks, the larvae enter the pupal stage, during which they spin a protective cocoon around themselves. Inside the cocoon, the pupa undergoes a dramatic transformation, emerging as a fully formed adult flea after about 1-2 weeks.\\n\\nOnce the adult flea emerges from the pupa, it begins the process of feeding on the host animal's blood. At this stage, the flea is ready to start the cycle over again by mating and laying eggs.\\n\\nIn total, the life cycle of a flea can take anywhere from 3-6 weeks to complete, although this can vary depending on factors such as temperature, humidity, and the availability of food. This rapid reproductive cycle allows fleas to quickly infest a host and establish a large population, making them a persistent and difficult pest to control.\", 'The life cycle of a flea is a complex and fascinating process that involves several stages of development. The entire life cycle of a flea, from egg to adult, can take anywhere from a few weeks to several months to complete, depending on various factors such as temperature, humidity, and the availability of food.\\n\\nIt begins with the female flea laying her eggs, typically on the host animal or in its bedding. The eggs hatch into larvae, which are legless and grub-like in appearance. The larvae feed on debris, hair, and other organic matter, and undergo several molts as they grow. This stage of the life cycle typically lasts around 2-4 weeks, during which time the larvae are sensitive to light and moisture.\\n\\nAfter the larval stage, the flea undergoes a pupal stage, during which it transforms into an adult. This stage can last anywhere from a few days to several weeks, and the adult flea emerges from the pupa when it senses the presence of a host animal. Adult fleas can live for several months, feeding on the blood of their host animal and reproducing to continue the cycle.\\n\\nOn average, the entire life cycle of a flea can take around 30-60 days to complete, although it can take longer in cooler temperatures and shorter in warmer temperatures. This means that if you infest an area with fleas, it can take several weeks for the population to grow and reach its peak, making it essential to address the issue promptly to prevent further infestation.\\n\\nIn summary, the life cycle of a flea involves several stages of development, from egg to adult, and can take anywhere from a few weeks to several months to complete, depending on various environmental factors.', \"The life cycle of a flea is a complex and multifaceted process, consisting of four distinct stages: egg, larva, pupa, and adult. \\n\\nThe adult flea's life cycle begins with the female flea laying around 4 to 8 eggs per day, with an average of 50 eggs in her lifetime. These eggs are usually white, oval-shaped, and about 0.5 millimeters in length. The female flea can lay eggs on the host animal, in the environment, or even in the host's bedding or furniture.\\n\\nThe eggs hatch into larvae within 2-3 weeks, depending on environmental factors such as temperature and humidity. The larvae are small, legless, and worm-like, feeding on debris and organic matter in the environment. This stage typically lasts around 2-4 weeks, during which the larvae molt twice.\\n\\nAfter the larval stage, the flea enters the pupal stage, also known as the resting or adult prepupal stage. During this stage, which lasts around 2-4 weeks, the flea undergoes a process of metamorphosis, transforming into an adult flea. The pupa is usually attached to a surface and sealed in a protective cocoon.\\n\\nFinally, the adult flea emerges from the pupa, usually after a period of 2-4 weeks. The adult flea will begin to feed on the host animal's blood within a few hours of emerging from the pupa, which triggers reproduction and the start of a new life cycle.\\n\\nIn total, the life cycle of a flea can last anywhere from 6-12 months, with the average lifespan of an adult flea being around 2-3 months. However, some flea species can live up to 1-2 years in ideal conditions.\", \"The life cycle of a flea is a complex and multi-stage process that typically spans several weeks. It begins with an adult flea, which lays eggs that hatch into larvae within 2-3 weeks. These larvae feed on organic matter and debris, and during this stage, they spin a protective cocoon around themselves.\\n\\nAfter 7-10 days, the larva inside the cocoon undergoes a dramatic transformation, emerging as a fully formed adult flea. This process is called pupation. The adult flea will then emerge from the cocoon and start the cycle over again by finding a host to feed on.\\n\\nIn ideal conditions, the life cycle of a flea can complete in as little as 3 weeks, but it can take up to 6 weeks or longer in less than ideal conditions. This life cycle can repeat multiple times, allowing a single female flea to produce hundreds of offspring and perpetuate the flea population.\\n\\nIt's worth noting that the flea life cycle can be influenced by factors such as temperature, humidity, and the availability of food and shelter. Understanding the life cycle of a flea is crucial for effective flea control and prevention.\"]}\n"
     ]
    }
   ],
   "source": [
    "import json\n",
    "with open(\"dl19-passage_pseudo_docs_8rep.json\", \"r\") as f:\n",
    "    pseudo_docs = json.load(f)\n",
    "\n",
    "print(f\"Generation config: {pseudo_docs['gen_config']}\")\n",
    "print(f\"Total number of topics and corresponding query, answers: {len(pseudo_docs['topics'])}\")\n",
    "print(f\"An Example of a topic entry: {pseudo_docs['topics'][0]}\")"
   ]
  },
  {
   "cell_type": "code",
   "execution_count": 12,
   "metadata": {},
   "outputs": [
    {
     "name": "stderr",
     "output_type": "stream",
     "text": [
      "Performing encoding and searching for pseudo docs: 100%|██████████| 43/43 [01:52<00:00,  2.62s/it]\n"
     ]
    }
   ],
   "source": [
    "from time import sleep\n",
    "import numpy as np\n",
    "import json\n",
    "from tqdm import tqdm\n",
    "\n",
    "with open('hyde-dl19-contriever-llama3_1_8b_instruct-top1000-8rep-trec', 'w') as f:\n",
    "    for topic in tqdm(pseudo_docs['topics'], desc=\"Performing encoding and searching for pseudo docs\"):\n",
    "        qid = topic[\"qid\"]\n",
    "        query = topic[\"query\"]\n",
    "        passages = topic[\"generated_passages\"]\n",
    "        # encode the candidate passages and take the average of the embeddings\n",
    "        all_emb_c = []\n",
    "        for passage in passages:\n",
    "            c_emb = query_encoder.encode(passage)\n",
    "            all_emb_c.append(np.array(c_emb))\n",
    "        all_emb_c = np.array(all_emb_c)\n",
    "        avg_emb_c = np.mean(all_emb_c, axis=0)\n",
    "        avg_emb_c = avg_emb_c.reshape((1, len(avg_emb_c)))\n",
    "\n",
    "        # search the pseudo docs\n",
    "        hits = searcher.search(avg_emb_c, k=1000)\n",
    "        for hit in hits:\n",
    "            rank += 1\n",
    "            f.write(f'{qid} Q0 {hit.docid} {rank} {hit.score} rank\\n')"
   ]
  },
  {
   "cell_type": "code",
   "execution_count": 14,
   "metadata": {},
   "outputs": [
    {
     "name": "stderr",
     "output_type": "stream",
     "text": [
      "huggingface/tokenizers: The current process just got forked, after parallelism has already been used. Disabling parallelism to avoid deadlocks...\n",
      "To disable this warning, you can either:\n",
      "\t- Avoid using `tokenizers` before the fork if possible\n",
      "\t- Explicitly set the environment variable TOKENIZERS_PARALLELISM=(true | false)\n"
     ]
    },
    {
     "name": "stdout",
     "output_type": "stream",
     "text": [
      "map                   \tall\t0.3695\n"
     ]
    },
    {
     "name": "stderr",
     "output_type": "stream",
     "text": [
      "huggingface/tokenizers: The current process just got forked, after parallelism has already been used. Disabling parallelism to avoid deadlocks...\n",
      "To disable this warning, you can either:\n",
      "\t- Avoid using `tokenizers` before the fork if possible\n",
      "\t- Explicitly set the environment variable TOKENIZERS_PARALLELISM=(true | false)\n"
     ]
    },
    {
     "name": "stdout",
     "output_type": "stream",
     "text": [
      "ndcg_cut_10           \tall\t0.5494\n"
     ]
    },
    {
     "name": "stderr",
     "output_type": "stream",
     "text": [
      "huggingface/tokenizers: The current process just got forked, after parallelism has already been used. Disabling parallelism to avoid deadlocks...\n",
      "To disable this warning, you can either:\n",
      "\t- Avoid using `tokenizers` before the fork if possible\n",
      "\t- Explicitly set the environment variable TOKENIZERS_PARALLELISM=(true | false)\n"
     ]
    },
    {
     "name": "stdout",
     "output_type": "stream",
     "text": [
      "recall_1000           \tall\t0.8234\n"
     ]
    }
   ],
   "source": [
    "!python -m pyserini.eval.trec_eval -c -l 2 -m map dl19-passage hyde-dl19-contriever-llama3_1_8b_instruct-top1000-8rep-trec\n",
    "!python -m pyserini.eval.trec_eval -c -m ndcg_cut.10 dl19-passage hyde-dl19-contriever-llama3_1_8b_instruct-top1000-8rep-trec\n",
    "!python -m pyserini.eval.trec_eval -c -l 2 -m recall.1000 dl19-passage hyde-dl19-contriever-llama3_1_8b_instruct-top1000-8rep-trec"
   ]
  }
 ],
 "metadata": {
  "kernelspec": {
   "display_name": "hyde-probe",
   "language": "python",
   "name": "python3"
  },
  "language_info": {
   "codemirror_mode": {
    "name": "ipython",
    "version": 3
   },
   "file_extension": ".py",
   "mimetype": "text/x-python",
   "name": "python",
   "nbconvert_exporter": "python",
   "pygments_lexer": "ipython3",
   "version": "3.10.14"
  }
 },
 "nbformat": 4,
 "nbformat_minor": 2
}
