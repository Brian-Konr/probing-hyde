{
 "cells": [
  {
   "cell_type": "code",
   "execution_count": 1,
   "metadata": {},
   "outputs": [
    {
     "name": "stdout",
     "output_type": "stream",
     "text": [
      "env: JAVA_HOME=/usr/lib/jvm/java-21-openjdk-amd64/bin/java\n",
      "env: JVM_PATH=/usr/lib/jvm/java-21-openjdk-amd64/lib/server/libjvm.so\n"
     ]
    }
   ],
   "source": [
    "%env JAVA_HOME=/usr/lib/jvm/java-21-openjdk-amd64/bin/java\n",
    "%env JVM_PATH=/usr/lib/jvm/java-21-openjdk-amd64/lib/server/libjvm.so"
   ]
  },
  {
   "cell_type": "markdown",
   "metadata": {},
   "source": [
    "## Generate Pseudo Dcos"
   ]
  },
  {
   "cell_type": "code",
   "execution_count": 44,
   "metadata": {},
   "outputs": [
    {
     "name": "stdout",
     "output_type": "stream",
     "text": [
      "{'generated_text': \"Please write a passage to answer the question\\nQuestion: how long is life cycle of flea\\nPassage: Fleas are ectoparasites that feed on the blood of mammals and birds. The life cycle of a flea consists of four stages: egg, larva, pupa, and adult. The female flea lays her eggs on the host animal, which hatch into larvae after 2-3 weeks. The larvae feed on organic matter and debris, and then spin a cocoon to enter the pupal stage. The pupal stage lasts for 2-4 weeks, during which the flea develops into an adult. The adult flea emerges from the cocoon and begins to feed on the host animal's blood. The entire life cycle of\", 'word_predictions': [{'word': '<|begin_of_text|>Please', 'predicted_probability': 0.0012386540183797479, 'predicted_label': 0}, {'word': 'write', 'predicted_probability': 0.031841836869716644, 'predicted_label': 0}, {'word': 'a', 'predicted_probability': 0.05101354047656059, 'predicted_label': 0}, {'word': 'passage', 'predicted_probability': 0.10344434529542923, 'predicted_label': 0}, {'word': 'to', 'predicted_probability': 0.14309541881084442, 'predicted_label': 0}, {'word': 'answer', 'predicted_probability': 0.13742640614509583, 'predicted_label': 0}, {'word': 'the', 'predicted_probability': 0.6620631217956543, 'predicted_label': 1}, {'word': 'question\\nQuestion:', 'predicted_probability': 0.5203755497932434, 'predicted_label': 1}, {'word': 'how', 'predicted_probability': 0.09697578847408295, 'predicted_label': 0}, {'word': 'long', 'predicted_probability': 0.10680267214775085, 'predicted_label': 0}, {'word': 'is', 'predicted_probability': 0.06633613258600235, 'predicted_label': 0}, {'word': 'life', 'predicted_probability': 0.030283832922577858, 'predicted_label': 0}, {'word': 'cycle', 'predicted_probability': 0.19807738065719604, 'predicted_label': 0}, {'word': 'of', 'predicted_probability': 0.17310339212417603, 'predicted_label': 0}, {'word': 'flea\\nPassage:', 'predicted_probability': 0.8490787148475647, 'predicted_label': 1}, {'word': 'Fleas', 'predicted_probability': 0.9943206310272217, 'predicted_label': 1}, {'word': 'are', 'predicted_probability': 0.9997876286506653, 'predicted_label': 1}, {'word': 'ectoparasites', 'predicted_probability': 0.993155300617218, 'predicted_label': 1}, {'word': 'that', 'predicted_probability': 0.9999582767486572, 'predicted_label': 1}, {'word': 'feed', 'predicted_probability': 0.9996243715286255, 'predicted_label': 1}, {'word': 'on', 'predicted_probability': 0.9992771744728088, 'predicted_label': 1}, {'word': 'the', 'predicted_probability': 0.9873389005661011, 'predicted_label': 1}, {'word': 'blood', 'predicted_probability': 0.9997612833976746, 'predicted_label': 1}, {'word': 'of', 'predicted_probability': 0.9986536502838135, 'predicted_label': 1}, {'word': 'mammals', 'predicted_probability': 0.9953874945640564, 'predicted_label': 1}, {'word': 'and', 'predicted_probability': 0.9590033888816833, 'predicted_label': 1}, {'word': 'birds.', 'predicted_probability': 0.9996956586837769, 'predicted_label': 1}, {'word': 'The', 'predicted_probability': 0.9975710511207581, 'predicted_label': 1}, {'word': 'life', 'predicted_probability': 0.9750292897224426, 'predicted_label': 1}, {'word': 'cycle', 'predicted_probability': 0.953562319278717, 'predicted_label': 1}, {'word': 'of', 'predicted_probability': 0.999757707118988, 'predicted_label': 1}, {'word': 'a', 'predicted_probability': 0.9982849955558777, 'predicted_label': 1}, {'word': 'flea', 'predicted_probability': 0.976065993309021, 'predicted_label': 1}, {'word': 'consists', 'predicted_probability': 0.659311830997467, 'predicted_label': 1}, {'word': 'of', 'predicted_probability': 0.962654173374176, 'predicted_label': 1}, {'word': 'four', 'predicted_probability': 0.9705203175544739, 'predicted_label': 1}, {'word': 'stages:', 'predicted_probability': 0.9673247337341309, 'predicted_label': 1}, {'word': 'egg,', 'predicted_probability': 0.9901899695396423, 'predicted_label': 1}, {'word': 'larva,', 'predicted_probability': 0.7979641556739807, 'predicted_label': 1}, {'word': 'pupa,', 'predicted_probability': 0.793552815914154, 'predicted_label': 1}, {'word': 'and', 'predicted_probability': 0.8841097354888916, 'predicted_label': 1}, {'word': 'adult.', 'predicted_probability': 0.9948975443840027, 'predicted_label': 1}, {'word': 'The', 'predicted_probability': 0.979971706867218, 'predicted_label': 1}, {'word': 'female', 'predicted_probability': 0.995161235332489, 'predicted_label': 1}, {'word': 'flea', 'predicted_probability': 0.9994350075721741, 'predicted_label': 1}, {'word': 'lays', 'predicted_probability': 0.9997715353965759, 'predicted_label': 1}, {'word': 'her', 'predicted_probability': 0.9823048114776611, 'predicted_label': 1}, {'word': 'eggs', 'predicted_probability': 0.9985997080802917, 'predicted_label': 1}, {'word': 'on', 'predicted_probability': 0.9598797559738159, 'predicted_label': 1}, {'word': 'the', 'predicted_probability': 0.8747800588607788, 'predicted_label': 1}, {'word': 'host', 'predicted_probability': 0.6482725739479065, 'predicted_label': 1}, {'word': 'animal,', 'predicted_probability': 0.9948832988739014, 'predicted_label': 1}, {'word': 'which', 'predicted_probability': 0.7201318144798279, 'predicted_label': 1}, {'word': 'hatch', 'predicted_probability': 0.8002346754074097, 'predicted_label': 1}, {'word': 'into', 'predicted_probability': 0.9568039178848267, 'predicted_label': 1}, {'word': 'larvae', 'predicted_probability': 0.9980545043945312, 'predicted_label': 1}, {'word': 'after', 'predicted_probability': 0.9899094104766846, 'predicted_label': 1}, {'word': '2-3', 'predicted_probability': 0.48436057567596436, 'predicted_label': 0}, {'word': 'weeks.', 'predicted_probability': 0.957289457321167, 'predicted_label': 1}, {'word': 'The', 'predicted_probability': 0.8052659630775452, 'predicted_label': 1}, {'word': 'larvae', 'predicted_probability': 0.8281619548797607, 'predicted_label': 1}, {'word': 'feed', 'predicted_probability': 0.9539350271224976, 'predicted_label': 1}, {'word': 'on', 'predicted_probability': 0.8008183836936951, 'predicted_label': 1}, {'word': 'organic', 'predicted_probability': 0.8408059477806091, 'predicted_label': 1}, {'word': 'matter', 'predicted_probability': 0.8688112497329712, 'predicted_label': 1}, {'word': 'and', 'predicted_probability': 0.9207100868225098, 'predicted_label': 1}, {'word': 'debris,', 'predicted_probability': 0.9461719393730164, 'predicted_label': 1}, {'word': 'and', 'predicted_probability': 0.6980019211769104, 'predicted_label': 1}, {'word': 'then', 'predicted_probability': 0.263568639755249, 'predicted_label': 0}, {'word': 'spin', 'predicted_probability': 0.13134069740772247, 'predicted_label': 0}, {'word': 'a', 'predicted_probability': 0.30996793508529663, 'predicted_label': 0}, {'word': 'cocoon', 'predicted_probability': 0.0834103375673294, 'predicted_label': 0}, {'word': 'to', 'predicted_probability': 0.8022053241729736, 'predicted_label': 1}, {'word': 'enter', 'predicted_probability': 0.958764910697937, 'predicted_label': 1}, {'word': 'the', 'predicted_probability': 0.858976423740387, 'predicted_label': 1}, {'word': 'pupal', 'predicted_probability': 0.7846033573150635, 'predicted_label': 1}, {'word': 'stage.', 'predicted_probability': 0.9245243668556213, 'predicted_label': 1}, {'word': 'The', 'predicted_probability': 0.942901074886322, 'predicted_label': 1}, {'word': 'pupal', 'predicted_probability': 0.725612998008728, 'predicted_label': 1}, {'word': 'stage', 'predicted_probability': 0.9092667102813721, 'predicted_label': 1}, {'word': 'lasts', 'predicted_probability': 0.995274007320404, 'predicted_label': 1}, {'word': 'for', 'predicted_probability': 0.9624572396278381, 'predicted_label': 1}, {'word': '2-4', 'predicted_probability': 0.2307635098695755, 'predicted_label': 0}, {'word': 'weeks,', 'predicted_probability': 0.989617109298706, 'predicted_label': 1}, {'word': 'during', 'predicted_probability': 0.9999759197235107, 'predicted_label': 1}, {'word': 'which', 'predicted_probability': 0.8969438076019287, 'predicted_label': 1}, {'word': 'the', 'predicted_probability': 0.3540927767753601, 'predicted_label': 0}, {'word': 'flea', 'predicted_probability': 0.5454456806182861, 'predicted_label': 1}, {'word': 'develops', 'predicted_probability': 0.5105187296867371, 'predicted_label': 1}, {'word': 'into', 'predicted_probability': 0.9616448879241943, 'predicted_label': 1}, {'word': 'an', 'predicted_probability': 0.962627649307251, 'predicted_label': 1}, {'word': 'adult.', 'predicted_probability': 0.8613248467445374, 'predicted_label': 1}, {'word': 'The', 'predicted_probability': 0.8182922005653381, 'predicted_label': 1}, {'word': 'adult', 'predicted_probability': 0.9969685673713684, 'predicted_label': 1}, {'word': 'flea', 'predicted_probability': 0.9849745035171509, 'predicted_label': 1}, {'word': 'emerges', 'predicted_probability': 0.9946006536483765, 'predicted_label': 1}, {'word': 'from', 'predicted_probability': 0.9879823923110962, 'predicted_label': 1}, {'word': 'the', 'predicted_probability': 0.6061288118362427, 'predicted_label': 1}, {'word': 'cocoon', 'predicted_probability': 0.6838633418083191, 'predicted_label': 1}, {'word': 'and', 'predicted_probability': 0.9357768893241882, 'predicted_label': 1}, {'word': 'begins', 'predicted_probability': 0.9994581341743469, 'predicted_label': 1}, {'word': 'to', 'predicted_probability': 0.9980636239051819, 'predicted_label': 1}, {'word': 'feed', 'predicted_probability': 0.9978042244911194, 'predicted_label': 1}, {'word': 'on', 'predicted_probability': 0.998099148273468, 'predicted_label': 1}, {'word': 'the', 'predicted_probability': 0.9619719386100769, 'predicted_label': 1}, {'word': 'host', 'predicted_probability': 0.5284900665283203, 'predicted_label': 1}, {'word': \"animal's\", 'predicted_probability': 0.9860728979110718, 'predicted_label': 1}, {'word': 'blood.', 'predicted_probability': 0.9984787106513977, 'predicted_label': 1}, {'word': 'The', 'predicted_probability': 0.9654096961021423, 'predicted_label': 1}, {'word': 'entire', 'predicted_probability': 0.9915297031402588, 'predicted_label': 1}, {'word': 'life', 'predicted_probability': 0.9649142026901245, 'predicted_label': 1}, {'word': 'cycle', 'predicted_probability': 0.9834240078926086, 'predicted_label': 1}, {'word': 'of', 'predicted_probability': 0.9971441626548767, 'predicted_label': 1}]}\n"
     ]
    }
   ],
   "source": [
    "import requests\n",
    "# from pyserini.search import get_topics, get_qrels\n",
    "from tqdm import tqdm\n",
    "import json\n",
    "\n",
    "url = \"http://localhost:8000/generate\"\n",
    "topic_name = \"dl19-passage\"\n",
    "\n",
    "# topics = get_topics(topic_name)\n",
    "with open(\"dl19-passage_topic_info.json\", \"r\") as f:\n",
    "    topics = json.load(f)\n",
    "\n",
    "gen_config = {\n",
    "    \"max_new_tokens\": 128,\n",
    "    \"do_sample\": False\n",
    "}\n",
    "\n",
    "gen_pseudo_docs = {\"gen_config\": gen_config}\n",
    "\n",
    "for topic in tqdm(topics[:1], desc=f\"Generating pseudo-docs for {topic_name} with probing probability included\"):\n",
    "    query = topic[\"query\"]\n",
    "    prompt = f\"\"\"Please write a passage to answer the question\n",
    "Question: {query}\n",
    "Passage:\"\"\"\n",
    "\n",
    "    response = requests.post(url, json={\"message\": prompt, \"gen_config\": gen_config}).json()\n",
    "    \n",
    "    ans = [] # candidate passages\n",
    "    for res in response:\n",
    "        content = res[\"generated_text\"][-1][\"content\"] # -1 indicates the last entry in generated_text, which is the assistant's response\n",
    "        ans.append(content)\n",
    "    topic[\"generated_passages\"] = ans\n",
    "\n",
    "\n",
    "gen_pseudo_docs[\"topics\"] = topics\n",
    "with open(f\"{topic_name}_pseudo_docs_8rep.json\", \"w\") as f:\n",
    "    json.dump(gen_pseudo_docs, f)"
   ]
  },
  {
   "cell_type": "code",
   "execution_count": 2,
   "metadata": {},
   "outputs": [
    {
     "data": {
      "text/plain": [
       "\"Please write a passage to answer the question\\nQuestion: how long is life cycle of flea\\nPassage: Fleas are ectoparasites that feed on the blood of mammals and birds. The life cycle of a flea consists of four stages: egg, larva, pupa, and adult. The female flea lays her eggs on the host animal, which hatch into larvae after 2-3 weeks. The larvae feed on organic matter and debris, and then spin a cocoon to enter the pupal stage. The pupal stage lasts for 2-4 weeks, during which the flea develops into an adult. The adult flea emerges from the cocoon and begins to feed on the host animal's blood. The entire life cycle of\""
      ]
     },
     "execution_count": 2,
     "metadata": {},
     "output_type": "execute_result"
    }
   ],
   "source": [
    "response['generated_text']"
   ]
  },
  {
   "cell_type": "code",
   "execution_count": 5,
   "metadata": {},
   "outputs": [],
   "source": [
    "from pyserini.search import get_topics, get_qrels\n",
    "\n",
    "topics = get_topics(\"msmarco-passage-dev-subset\")\n",
    "qrels = get_qrels(\"msmarco-passage-dev-subset\")"
   ]
  },
  {
   "cell_type": "code",
   "execution_count": 7,
   "metadata": {},
   "outputs": [
    {
     "name": "stdout",
     "output_type": "stream",
     "text": [
      "6980\n",
      "6980\n"
     ]
    }
   ],
   "source": [
    "print(len(topics))\n",
    "print(len(qrels))"
   ]
  },
  {
   "cell_type": "code",
   "execution_count": 27,
   "metadata": {},
   "outputs": [
    {
     "name": "stdout",
     "output_type": "stream",
     "text": [
      "1102330 {'title': 'why do people grind teeth in sleep'}\n"
     ]
    }
   ],
   "source": [
    "for topic in topics:\n",
    "    print(topic, topics[topic])\n",
    "    break"
   ]
  },
  {
   "cell_type": "code",
   "execution_count": 29,
   "metadata": {},
   "outputs": [
    {
     "name": "stdout",
     "output_type": "stream",
     "text": [
      "300674 {7067032: '1'}\n",
      "1102330 {7867438: '1'}\n"
     ]
    }
   ],
   "source": [
    "for qid in qrels:\n",
    "    print(qid, qrels[qid])\n",
    "    print(1102330, qrels[1102330])\n",
    "    break"
   ]
  },
  {
   "cell_type": "code",
   "execution_count": 24,
   "metadata": {},
   "outputs": [
    {
     "name": "stdout",
     "output_type": "stream",
     "text": [
      "max relevant docs: 4\n"
     ]
    }
   ],
   "source": [
    "relevant_doc_cnt = []\n",
    "for qid in qrels:\n",
    "    relevant_doc_cnt.append(len(qrels[qid].keys()))\n",
    "\n",
    "# descriptive of relevant documents\n",
    "print(f\"max relevant docs: {max(relevant_doc_cnt)}\")\n"
   ]
  },
  {
   "cell_type": "markdown",
   "metadata": {},
   "source": [
    "Fetching Document Content using Document ID (With Pyserini)\n",
    "\n",
    "https://github.com/castorini/pyserini/blob/master/docs/usage-fetch.md"
   ]
  },
  {
   "cell_type": "code",
   "execution_count": 30,
   "metadata": {},
   "outputs": [
    {
     "data": {
      "text/plain": [
       "'http://en.wikipedia.org/wiki/William_Bradford_(Plymouth_Colony_governor) William Bradford (c.1590 â\\x80\\x93 1657) was an English Separatist leader in Leiden, Holland and in Plymouth Colony was a signatory to the Mayflower Compact. He served as Plymouth Colony Governor five times covering about thirty years between 1621 and 1657.'"
      ]
     },
     "execution_count": 30,
     "metadata": {},
     "output_type": "execute_result"
    }
   ],
   "source": [
    "from pyserini.search.lucene import LuceneSearcher\n",
    "searcher = LuceneSearcher.from_prebuilt_index('msmarco-v1-passage')\n",
    "doc = searcher.doc('7067032')\n",
    "\n",
    "import json\n",
    "json_doc = json.loads(doc.raw())\n",
    "\n",
    "json_doc['contents']"
   ]
  },
  {
   "cell_type": "code",
   "execution_count": 41,
   "metadata": {},
   "outputs": [],
   "source": [
    "from pyserini.search import get_topics, get_qrels\n",
    "from pyserini.search.lucene import LuceneSearcher\n",
    "import json\n",
    "    \n",
    "collection = \"msmarco-passage-dev-subset\"\n",
    "\n",
    "searcher = LuceneSearcher.from_prebuilt_index('msmarco-v1-passage')\n",
    "\n",
    "topics = get_topics(collection)\n",
    "qrels = get_qrels(collection)\n",
    "\n",
    "q_and_its_rel_docs = {}\n",
    "\n",
    "for qid in topics:\n",
    "    query = topics[qid]['title']\n",
    "    q_and_its_rel_docs[qid] = {}\n",
    "    q_and_its_rel_docs[qid]['qid'] = qid\n",
    "    q_and_its_rel_docs[qid]['query'] = query\n",
    "    q_and_its_rel_docs[qid]['rel_docs'] = []\n",
    "\n",
    "    rel_docs = qrels[qid]\n",
    "    for docid in rel_docs:\n",
    "        rank = rel_docs[docid]\n",
    "        doc = searcher.doc(str(docid)) # str means using external collection id\n",
    "        json_doc = json.loads(doc.raw())\n",
    "        content = json_doc['contents']\n",
    "        q_and_its_rel_docs[qid]['rel_docs'].append({\n",
    "            \"docid\": docid,\n",
    "            \"content\": content,\n",
    "            \"rank\": rank\n",
    "        })\n",
    "\n",
    "with open(f\"{collection}_q_and_its_rel_docs.json\", \"w\") as f:\n",
    "    json.dump(q_and_its_rel_docs, f)"
   ]
  },
  {
   "cell_type": "code",
   "execution_count": 39,
   "metadata": {},
   "outputs": [
    {
     "name": "stdout",
     "output_type": "stream",
     "text": [
      "(19335, {1017759: '0', 1082489: '0', 109063: '0', 1160863: '0', 1160871: '0', 1189088: '0', 1203500: '0', 1231806: '0', 1231807: '0', 1274615: '0', 1274620: '0', 1324075: '0', 1509459: '0', 1555317: '0', 1568085: '0', 161603: '0', 1705525: '0', 1720387: '0', 1720388: '0', 1720389: '1', 1720393: '0', 1720395: '1', 1722: '0', 1725697: '0', 1726: '0', 1729: '2', 1730: '0', 1796642: '0', 1796647: '0', 1825416: '0', 1825418: '0', 1837110: '0', 1871222: '0', 1908804: '0', 1956669: '0', 1958100: '0', 1958102: '0', 1958103: '0', 1959553: '0', 2004186: '0', 2046505: '1', 2071723: '0', 2130187: '0', 2186129: '0', 2304004: '0', 2304005: '0', 2324839: '0', 2325143: '0', 2382766: '0', 2394677: '0', 256744: '0', 256746: '0', 256750: '0', 2594897: '0', 2604487: '0', 2725017: '0', 2874503: '0', 2943092: '0', 2978577: '0', 3045565: '1', 3045567: '1', 3137952: '0', 3175481: '3', 3175483: '0', 3175484: '3', 3175485: '0', 3212083: '0', 3260688: '0', 3358752: '0', 342431: '0', 342432: '0', 3424644: '0', 3445057: '0', 3489287: '0', 3497213: '0', 3539483: '0', 3559596: '0', 3637071: '0', 3683653: '0', 3833966: '0', 3959463: '0', 4050974: '0', 429846: '0', 429849: '0', 429852: '0', 4379804: '0', 4480942: '0', 4510384: '0', 4540809: '0', 4686524: '0', 4692187: '0', 492088: '0', 4974433: '0', 5078863: '0', 5078867: '0', 5231750: '0', 527689: '0', 527690: '1', 527692: '1', 527695: '0', 527697: '1', 527698: '0', 5298801: '0', 5398329: '0', 5454280: '0', 5508122: '0', 5652225: '0', 5652228: '0', 5711217: '0', 5732405: '0', 584350: '0', 5870000: '0', 5932277: '0', 6177788: '0', 6210055: '0', 6306220: '0', 6306222: '0', 6452942: '0', 6452949: '1', 6582809: '0', 6683523: '0', 6751546: '0', 6773977: '0', 6783161: '0', 6867870: '0', 6894786: '0', 6894788: '0', 691494: '0', 691496: '0', 691498: '0', 6999135: '0', 7007720: '0', 7122355: '1', 712804: '0', 712806: '0', 712809: '0', 7198041: '0', 7198042: '0', 7198044: '0', 7200795: '0', 724366: '0', 7267243: '0', 7267248: '0', 7276206: '0', 7298833: '0', 7298839: '0', 7320614: '1', 7367402: '0', 7367407: '0', 7460276: '0', 7665056: '0', 7692042: '0', 7692043: '0', 7692044: '0', 772232: '0', 772234: '0', 7727457: '0', 7727464: '0', 7763208: '0', 7891857: '0', 7961905: '0', 7961908: '0', 8040069: '0', 8151641: '0', 8151642: '0', 8151650: '0', 8169280: '0', 819168: '1', 8199361: '0', 8365529: '0', 8379032: '0', 8412681: '2', 8412682: '3', 8412683: '2', 8412684: '3', 8412685: '1', 8412687: '0', 8412688: '0', 8478792: '0', 8618772: '0', 8635981: '0', 8649613: '0', 8677293: '0', 8677296: '0', 8689042: '0', 8734157: '0', 8734158: '0', 8734162: '0', 8754859: '0', 8798988: '0', 8798990: '0', 8832564: '0', 901325: '0', 901329: '0'})\n"
     ]
    }
   ],
   "source": [
    "collection = \"dl19-passage\"\n",
    "\n",
    "searcher = LuceneSearcher.from_prebuilt_index('msmarco-v1-passage')\n",
    "\n",
    "topics = get_topics(collection)\n",
    "qrels = get_qrels(collection)\n",
    "\n",
    "print(list(qrels.items())[0])"
   ]
  },
  {
   "cell_type": "code",
   "execution_count": null,
   "metadata": {},
   "outputs": [],
   "source": []
  }
 ],
 "metadata": {
  "kernelspec": {
   "display_name": "hyde-probe",
   "language": "python",
   "name": "python3"
  },
  "language_info": {
   "codemirror_mode": {
    "name": "ipython",
    "version": 3
   },
   "file_extension": ".py",
   "mimetype": "text/x-python",
   "name": "python",
   "nbconvert_exporter": "python",
   "pygments_lexer": "ipython3",
   "version": "3.10.14"
  }
 },
 "nbformat": 4,
 "nbformat_minor": 2
}
